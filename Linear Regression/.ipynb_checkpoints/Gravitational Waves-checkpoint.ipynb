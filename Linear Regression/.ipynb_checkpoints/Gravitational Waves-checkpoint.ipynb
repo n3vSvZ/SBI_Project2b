{
 "cells": [
  {
   "cell_type": "code",
   "execution_count": null,
   "id": "faa9964e",
   "metadata": {},
   "outputs": [],
   "source": [
    "import numpy as np\n",
    "import matplotlib.pyplot as plt\n",
    "from pycbc.waveform import get_fd_waveform\n",
    "from pycbc.psd import aLIGOZeroDetHighPower\n",
    "from pycbc.filter import highpass"
   ]
  },
  {
   "cell_type": "code",
   "execution_count": null,
   "id": "84207814",
   "metadata": {},
   "outputs": [],
   "source": [
    "pip install pycbc"
   ]
  },
  {
   "cell_type": "code",
   "execution_count": null,
   "id": "c18ae509",
   "metadata": {},
   "outputs": [],
   "source": [
    "\"\"\"\"\n",
    "theta[0]: mass1 (solar masses)\n",
    "theta[1]: mass2 (solar masses)\n",
    "theta[2]: distance (Mpc)\n",
    "\"\"\"\"\n",
    "\n",
    "def simulator(theta, delta_f, f_lower, f_final):\n",
    "    hp, hc = get_fd_waveform(approximant=\"TaylorF2\",\n",
    "                             mass1=mass1,\n",
    "                             mass2=mass2,\n",
    "                             delta_f=delta_f,\n",
    "                             f_lower=f_lower,\n",
    "                             f_final=f_final,\n",
    "                             distance=distance,\n",
    "                             inclination=0.0,\n",
    "                             coa_phase=0.0)\n"
   ]
  }
 ],
 "metadata": {
  "kernelspec": {
   "display_name": "Python 3 (ipykernel)",
   "language": "python",
   "name": "python3"
  },
  "language_info": {
   "codemirror_mode": {
    "name": "ipython",
    "version": 3
   },
   "file_extension": ".py",
   "mimetype": "text/x-python",
   "name": "python",
   "nbconvert_exporter": "python",
   "pygments_lexer": "ipython3",
   "version": "3.10.16"
  }
 },
 "nbformat": 4,
 "nbformat_minor": 5
}
