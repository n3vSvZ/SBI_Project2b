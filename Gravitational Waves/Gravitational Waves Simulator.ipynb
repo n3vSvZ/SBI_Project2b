{
 "cells": [
  {
   "cell_type": "code",
   "execution_count": 4,
   "id": "d3cf9ff9-3a46-4229-b1b4-2cdda9cc0b4a",
   "metadata": {},
   "outputs": [],
   "source": [
    "import numpy as np\n",
    "import sbi \n",
    "\n",
    "import lal as _lal\n",
    "from pycbc.waveform import get_fd_waveform\n",
    "from pycbc.psd import aLIGOZeroDetHighPower\n",
    "from pycbc.filter import highpass\n",
    "\n",
    "import matplotlib\n",
    "import matplotlib.pyplot as plt"
   ]
  },
  {
   "cell_type": "markdown",
   "id": "6078bca3-35a4-4037-81a8-8f5cd2e893e2",
   "metadata": {},
   "source": [
    "#### (chatGPT) The noise:\n",
    "\n",
    "detectore noise is given by:\n",
    "\n",
    "$$n(f) - \\mathbb{C} N(0,0.5S_n(f))$$\n",
    "\n",
    "where $S_n(f)$ is the one-sided power spectral density at frequency f."
   ]
  },
  {
   "cell_type": "code",
   "execution_count": 36,
   "id": "607b9583-4e9c-431b-acf3-834492686679",
   "metadata": {},
   "outputs": [],
   "source": [
    "\"\"\"\n",
    "theta[0]: mass1 (solar masses)\n",
    "theta[1]: mass2 (solar masses)\n",
    "theta[2]: distance (Mpc)\n",
    "\"\"\"\n",
    "\n",
    "def simulator(theta, delta_f, f_lower, f_final):\n",
    "    num_sim = theta.shape[0]\n",
    "    num_freq = int(((f_final - f_lower) / delta_f) + 1)\n",
    "    h_freq = np.zeros(shape = (num_sim, 4, num_freq))\n",
    "\n",
    "    # Calculate the gravitational wave strains in frequency space num_sim times\n",
    "    for i in range(num_sim):\n",
    "        mass1 = theta[i,0]\n",
    "        mass2 = theta[i,1]\n",
    "        distance = theta[i,2]\n",
    "        hp, hc = get_fd_waveform(approximant=\"TaylorF2\",\n",
    "                                 mass1=mass1,\n",
    "                                 mass2=mass2,\n",
    "                                 delta_f=delta_f,\n",
    "                                 f_lower=f_lower,\n",
    "                                 f_final=f_final,\n",
    "                                 distance=distance,\n",
    "                                 inclination=0.0,\n",
    "                                 coa_phase=0.0)\n",
    "        \n",
    "        hp_freq = hp.to_frequencyseries()\n",
    "        frequencies = hp_freq.sample_frequencies.numpy()\n",
    "        hp_amplitudes = hp_freq.numpy()[frequencies >= f_lower]\n",
    "        hp_amplitudes_real = np.real(hp_amplitudes)\n",
    "        hp_amplitudes_imaginary = np.imag(hp_amplitudes)\n",
    "        \n",
    "        hc_freq = hc.to_frequencyseries()\n",
    "        hc_amplitudes = hc_freq.numpy()[frequencies >= f_lower]\n",
    "        hc_amplitudes_real = np.real(hc_amplitudes)\n",
    "        hc_amplitudes_imaginary = np.imag(hc_amplitudes)\n",
    "        \n",
    "        h_freq[i,0,:] = hp_amplitudes_real\n",
    "        h_freq[i,1,:] = hp_amplitudes_imaginary\n",
    "        h_freq[i,2,:] = hc_amplitudes_real\n",
    "        h_freq[i,3,:] = hc_amplitudes_imaginary\n",
    "        \n",
    "        hp_psd = aLIGOZeroDetHighPower(length = len(frequencies), delta_f = delta_f, low_freq_cutoff = f_lower).numpy()[frequencies >= f_lower]\n",
    "        hp_scale = np.sqrt(0.5 * hp_psd * delta_f)\n",
    "        hp_noise_real = np.random.normal(0, hp_scale)\n",
    "        hp_noise_imaginary = np.random.normal(0, hp_scale)\n",
    "        \n",
    "        hc_psd = aLIGOZeroDetHighPower(length = len(frequencies), delta_f = delta_f, low_freq_cutoff = f_lower).numpy()[frequencies >= f_lower]\n",
    "        hc_scale = np.sqrt(0.5 * hc_psd * delta_f)\n",
    "        hc_noise_real = np.random.normal(0, hc_scale)\n",
    "        hc_noise_imaginary = np.random.normal(0, hc_scale)\n",
    "        \n",
    "        h_freq[i,0,:] += hp_noise_real\n",
    "        h_freq[i,1,:] += hp_noise_imaginary\n",
    "        h_freq[i,2,:] += hc_noise_real\n",
    "        h_freq[i,3,:] += hc_noise_imaginary\n",
    "\n",
    "    return h_freq\n",
    "    \n",
    "    "
   ]
  },
  {
   "cell_type": "code",
   "execution_count": 32,
   "id": "1e4a11b3-8c6c-4fcc-9959-4a44d8f3d9d5",
   "metadata": {},
   "outputs": [],
   "source": [
    "mass1 = 1\n",
    "mass2 = 2\n",
    "distance = 500\n",
    "delta_f = 1/16\n",
    "f_lower = 20.0\n",
    "f_final = 512.0\n",
    "\n",
    "hp, hc = get_fd_waveform(approximant=\"TaylorF2\",\n",
    "                             mass1=mass1,\n",
    "                             mass2=mass2,\n",
    "                             delta_f=delta_f,\n",
    "                             f_lower=f_lower,\n",
    "                             f_final=f_final,\n",
    "                             distance=distance,\n",
    "                             inclination=0.0,\n",
    "                             coa_phase=0.0)\n",
    "\n",
    "ht = hp.to_timeseries()\n",
    "times = ht.sample_times.numpy()\n",
    "amplitude = ht.numpy()\n",
    "\n",
    "plt.plot(times, amplitude)\n",
    "plt.xlabel(\"Time (s)\")\n",
    "plt.ylabel(\"Strain h(t)\")\n",
    "plt.savefig(\"time series\")\n",
    "plt.close()\n",
    "\n",
    "hp_freq = hp.to_frequencyseries()\n",
    "frequencies = hp_freq.sample_frequencies.numpy()\n",
    "hp_amplitudes = hp_freq.numpy()\n",
    "hp_amplitudes_real = np.real(hp_amplitudes)\n",
    "hp_amplitudes_imaginary = np.imag(hp_amplitudes)\n",
    "\n",
    "hc_freq = hc.to_frequencyseries()\n",
    "hc_amplitudes = hc_freq.numpy()\n",
    "hc_amplitudes_real = np.real(hc_amplitudes)\n",
    "hc_amplitudes_imaginary = np.imag(hc_amplitudes)\n",
    "\n",
    "h_freq = np.zeros(shape = (4, len(frequencies)))\n",
    "h_freq[0,:] = hp_amplitudes_real\n",
    "h_freq[1,:] = hp_amplitudes_imaginary\n",
    "h_freq[2,:] = hc_amplitudes_real\n",
    "h_freq[3,:] = hc_amplitudes_imaginary\n",
    "\n",
    "hp_psd = aLIGOZeroDetHighPower(length = len(frequencies), delta_f = delta_f, low_freq_cutoff = f_lower)\n",
    "hp_scale = np.sqrt(0.5 * hp_psd.numpy() * delta_f)\n",
    "hp_noise_real = np.random.normal(0, hp_scale)\n",
    "hp_noise_imaginary = np.random.normal(0, hp_scale)\n",
    "\n",
    "hc_psd = aLIGOZeroDetHighPower(length = len(frequencies), delta_f = delta_f, low_freq_cutoff = f_lower)\n",
    "hc_scale = np.sqrt(0.5 * hc_psd.numpy() * delta_f)\n",
    "hc_noise_real = np.random.normal(0, hc_scale)\n",
    "hc_noise_imaginary = np.random.normal(0, hc_scale)\n",
    "\n",
    "h_freq[0,:] += hp_noise_real\n",
    "h_freq[1,:] += hp_noise_imaginary\n",
    "h_freq[2,:] += hc_noise_real\n",
    "h_freq[3,:] += hc_noise_imaginary\n",
    "\n",
    "plt.plot(frequencies, h_freq[0,:])\n",
    "plt.plot(frequencies, h_freq[1,:])\n",
    "plt.xlabel('frequency (Hz)')\n",
    "plt.ylabel('Strain amplitude h(f)')\n",
    "plt.savefig(\"frequency series hp + noise\")\n",
    "plt.close()\n",
    "\n",
    "plt.plot(frequencies, h_freq[2,:])\n",
    "plt.plot(frequencies, h_freq[3,:])\n",
    "plt.xlabel('frequency (Hz)')\n",
    "plt.ylabel('Strain amplitude h(f)')\n",
    "plt.savefig(\"frequency series hc + noise\")\n",
    "plt.close()"
   ]
  },
  {
   "cell_type": "code",
   "execution_count": 37,
   "id": "c14863cb-0a30-4e88-b732-965df93b13f9",
   "metadata": {},
   "outputs": [],
   "source": [
    "theta = np.array([[30,30,100],\n",
    "                 [40,15,200],\n",
    "                 [50,25,300],\n",
    "                 [20,40,400],\n",
    "                 [35,20,500],])\n",
    "h_freq = simulator(theta, delta_f, f_lower, f_final)"
   ]
  },
  {
   "cell_type": "code",
   "execution_count": 38,
   "id": "1df6baa3-b643-4a5a-a502-a9e5a2baaae6",
   "metadata": {},
   "outputs": [
    {
     "data": {
      "text/plain": [
       "array([[-3.45226834e-22, -3.62603016e-22, -3.39443943e-22, ...,\n",
       "         7.15074721e-25,  1.35410652e-24,  7.33152430e-25],\n",
       "       [ 1.09533872e-22, -2.48258459e-24, -1.10218060e-22, ...,\n",
       "        -7.02355994e-24, -8.19829895e-24, -8.14050027e-24],\n",
       "       [ 1.17572283e-22, -2.25719739e-24, -1.12382441e-22, ...,\n",
       "        -9.75562033e-24, -7.37974689e-24, -8.14050027e-24],\n",
       "       [ 3.46883991e-22,  3.69961106e-22,  3.43698316e-22, ...,\n",
       "        -7.95158108e-25, -5.44850684e-25, -7.33152430e-25]])"
      ]
     },
     "execution_count": 38,
     "metadata": {},
     "output_type": "execute_result"
    }
   ],
   "source": [
    "h_freq[0,:,:]"
   ]
  },
  {
   "cell_type": "code",
   "execution_count": 34,
   "id": "1e32b747-0c17-4d9f-a254-1d4bdb100fa2",
   "metadata": {},
   "outputs": [
    {
     "data": {
      "text/plain": [
       "7873"
      ]
     },
     "execution_count": 34,
     "metadata": {},
     "output_type": "execute_result"
    }
   ],
   "source": [
    "len(hp_noise)"
   ]
  },
  {
   "cell_type": "code",
   "execution_count": 30,
   "id": "e54e7326-d164-4498-9081-b6e5a897e8dd",
   "metadata": {},
   "outputs": [],
   "source": [
    "aLIGOZeroDetHighPower(length = len(frequencies), delta_f = delta_f, low_freq_cutoff = f_lower).plot()\n",
    "plt.savefig('noise')\n",
    "plt.close()"
   ]
  },
  {
   "cell_type": "code",
   "execution_count": 17,
   "id": "00f6080e-fef4-4b36-aa54-56a185e3769d",
   "metadata": {},
   "outputs": [],
   "source": [
    "frequencies = frequencies[frequencies >= f_lower]"
   ]
  },
  {
   "cell_type": "code",
   "execution_count": 18,
   "id": "e853ed61-79b7-479d-95f3-106487cea926",
   "metadata": {},
   "outputs": [
    {
     "data": {
      "text/plain": [
       "7873"
      ]
     },
     "execution_count": 18,
     "metadata": {},
     "output_type": "execute_result"
    }
   ],
   "source": [
    "len(frequencies)"
   ]
  },
  {
   "cell_type": "code",
   "execution_count": 35,
   "id": "463dce4f-42cc-47f7-93c1-d6db8b96d8c7",
   "metadata": {},
   "outputs": [
    {
     "data": {
      "text/plain": [
       "array([4.28646109e-46, 4.22982019e-46, 4.17414163e-46, ...,\n",
       "       1.52467903e-47, 1.52477428e-47, 0.00000000e+00])"
      ]
     },
     "execution_count": 35,
     "metadata": {},
     "output_type": "execute_result"
    }
   ],
   "source": [
    "hp_noise"
   ]
  },
  {
   "cell_type": "code",
   "execution_count": null,
   "id": "2c373233-e62f-41c0-8fcb-c753e03a7f90",
   "metadata": {},
   "outputs": [],
   "source": []
  },
  {
   "cell_type": "code",
   "execution_count": null,
   "id": "be0255eb-20fe-45a7-84dd-59beff087b61",
   "metadata": {},
   "outputs": [],
   "source": []
  }
 ],
 "metadata": {
  "kernelspec": {
   "display_name": "Python 3 (ipykernel)",
   "language": "python",
   "name": "python3"
  },
  "language_info": {
   "codemirror_mode": {
    "name": "ipython",
    "version": 3
   },
   "file_extension": ".py",
   "mimetype": "text/x-python",
   "name": "python",
   "nbconvert_exporter": "python",
   "pygments_lexer": "ipython3",
   "version": "3.11.3"
  }
 },
 "nbformat": 4,
 "nbformat_minor": 5
}
